{
  "cells": [
    {
      "cell_type": "code",
      "execution_count": null,
      "metadata": {
        "id": "aY7otTKVubpK"
      },
      "outputs": [],
      "source": [
        "import networkx as nx\n",
        "import pylab as plt\n",
        "import pandas as pd\n",
        "import argparse\n",
        "import random\n",
        "import numpy as np\n",
        "import time"
      ]
    },
    {
      "cell_type": "code",
      "execution_count": null,
      "metadata": {
        "colab": {
          "base_uri": "https://localhost:8080/"
        },
        "id": "0zd8Uh9A_5WB",
        "outputId": "97e69bd6-63dd-4c0b-c72d-472d85de6a5c"
      },
      "outputs": [
        {
          "name": "stdout",
          "output_type": "stream",
          "text": [
            "Mounted at /content/gdrive\n"
          ]
        }
      ],
      "source": [
        "from google.colab import drive\n",
        "drive.mount('/content/gdrive')"
      ]
    },
    {
      "cell_type": "markdown",
      "metadata": {
        "id": "b6g13u95l0wL"
      },
      "source": [
        "Let's Import the differents Graphs"
      ]
    },
    {
      "cell_type": "code",
      "execution_count": null,
      "metadata": {
        "id": "CfvHPwdYl50y"
      },
      "outputs": [],
      "source": [
        "G20 = nx.read_gml('/content/gdrive/MyDrive/Networkx/Graph21.gml')"
      ]
    },
    {
      "cell_type": "code",
      "execution_count": null,
      "metadata": {
        "id": "CdmoEgHRl5iv"
      },
      "outputs": [],
      "source": [
        "G25 = nx.read_gml('/content/gdrive/MyDrive/Networkx/Graph25.gml')"
      ]
    },
    {
      "cell_type": "code",
      "execution_count": null,
      "metadata": {
        "id": "B46KpljXl5QH"
      },
      "outputs": [],
      "source": [
        "G30 = nx.read_gml('/content/gdrive/MyDrive/Networkx/Graph30.gml')"
      ]
    },
    {
      "cell_type": "code",
      "execution_count": null,
      "metadata": {
        "id": "QToapYNxl4d2"
      },
      "outputs": [],
      "source": [
        "G35 = nx.read_gml('/content/gdrive/MyDrive/Networkx/Graph35.gml')"
      ]
    },
    {
      "cell_type": "markdown",
      "metadata": {
        "id": "ibBj2cUGxSau"
      },
      "source": [
        "## We Can test with three topologies either G20 or G25, G30"
      ]
    },
    {
      "cell_type": "code",
      "execution_count": null,
      "metadata": {
        "id": "c710eMStunHz"
      },
      "outputs": [],
      "source": [
        ""
      ]
    },
    {
      "cell_type": "markdown",
      "metadata": {
        "id": "0-JjdtXVunu8"
      },
      "source": [
        "Function to Compute the Energy Consumption"
      ]
    },
    {
      "cell_type": "markdown",
      "metadata": {
        "id": "oeg9Za49uwA1"
      },
      "source": [
        "\\begin{equation}\n",
        "  E_{Tx} = \n",
        "   k \\times E_{elec} + k \\times d^2 \\times E_{fs} \\qquad if \\qquad  d< d_0\\\\\n",
        "\\end{equation}\n",
        "\n",
        "\\begin{equation}\n",
        "  E_{Tx} =\n",
        "   k \\times E_{elec} + k \\times d^4 \\times E_{mp} \\qquad if \\qquad  d> d_0\\\\\n",
        "\\end{equation}\n",
        "\n",
        "\n",
        "\\begin{equation}\n",
        "  E_{Rx} = k \\times E_{elec} \n",
        "\\end{equation}\n"
      ]
    },
    {
      "cell_type": "code",
      "execution_count": null,
      "metadata": {
        "id": "KKaDatW0urfF"
      },
      "outputs": [],
      "source": [
        "k = 4000  # k represent the number of bytes actually it is 500 bytes\n",
        "Eelec = 50*10**(-9)  #  Eelec represents the electronic energy consumption (50nJ/bit)\n",
        "Efs = 10*10**(-12)  # Eamp represents the Transmit amplifier (10pJ/bit/m^2)\n",
        "Emp = 0.0013*10**(-12)  # Eamp represents the Transmit amplifier (0.0013pJ/bit/m^4)\n",
        "d0 = 87\n",
        "\n",
        "ERex = k*Eelec  # ERex represents the energy required for receiving data\n",
        "\n",
        "\n",
        "\n",
        "def ETx(d):\n",
        "    if d < d0:\n",
        "        return k*Eelec + k*d**2*Efs\n",
        "    else:\n",
        "        return k*Eelec + k*d**4*Emp\n",
        "\n"
      ]
    },
    {
      "cell_type": "code",
      "execution_count": null,
      "metadata": {
        "id": "YdJWKBgnusCQ"
      },
      "outputs": [],
      "source": [
        ""
      ]
    },
    {
      "cell_type": "markdown",
      "metadata": {
        "id": "Fb6s67Mzu2SV"
      },
      "source": [
        "#### Energy Consumption with A star Algorithm"
      ]
    },
    {
      "cell_type": "code",
      "execution_count": null,
      "metadata": {
        "id": "uhWGWdipFruU"
      },
      "outputs": [],
      "source": [
        "def AstarEnergy(Graph):\n",
        "    list_nodes = list(Graph.nodes())\n",
        "    activenodes = list_nodes[1:]\n",
        "    random.seed(237)\n",
        "    #S = listnodes[1]\n",
        "    D = list_nodes[0]\n",
        "    # This list contains the sum of the transmission energy in all the possible paths\n",
        "    Ex = []\n",
        "    t = []\n",
        "    ListeEnergy = []\n",
        "    start = time.time()\n",
        "    for k in range(1000):\n",
        "\n",
        "        S = random.choice(activenodes)\n",
        "        liste = nx.astar_path(Graph, S, D, weight = 'weight' ) \n",
        "        Energy = []               # Energy will contains all the transmission energy in each segment of a certain path\n",
        "\n",
        "        for i in range(len(liste)):\n",
        "            if i == 0:\n",
        "                Graph.nodes[liste[i]][\"Energy\"] -= ETx(Graph[liste[i]][liste[i + 1]]['weight'])\n",
        "                Energy.append(ETx(Graph[liste[i]][liste[i + 1]]['weight'])) \n",
        "            elif i!=0 and i!= len(liste) - 1:\n",
        "                Graph.nodes[liste[i]][\"Energy\"] = Graph.nodes[liste[i]][\"Energy\"] - ETx(Graph[liste[i]][liste[i + 1]]['weight']) - ERex \n",
        "                Energy.append(ETx(Graph[liste[i]][liste[i + 1]]['weight']) + ERex)\n",
        "            Energysum = sum(Energy)\n",
        "\n",
        "        ListeEnergy.append(Energysum)\n",
        "        r = time.time() - start\n",
        "        t.append(r) \n",
        "        #Ex.append(ListeEnergy)\n",
        "\n",
        "        #plt.plot(ListeEnergy)\n",
        "        #plt.show()\n",
        "    final = time.time() - start\n",
        "    return sum(ListeEnergy) , final, t, ListeEnergy, np.mean(ListeEnergy), np.std(ListeEnergy), (np.std(ListeEnergy)/np.mean(ListeEnergy))*100           "
      ]
    },
    {
      "cell_type": "code",
      "execution_count": null,
      "metadata": {
        "id": "BQUrPd8SmgZE"
      },
      "outputs": [],
      "source": [
        ""
      ]
    },
    {
      "cell_type": "code",
      "execution_count": null,
      "metadata": {
        "id": "9G0bfYANmgva"
      },
      "outputs": [],
      "source": [
        "G20 = nx.read_gml('/content/gdrive/MyDrive/Networkx/Graph20.gml')"
      ]
    },
    {
      "cell_type": "code",
      "execution_count": null,
      "metadata": {
        "id": "fcS1M2dVmgvb"
      },
      "outputs": [],
      "source": [
        "G25 = nx.read_gml('/content/gdrive/MyDrive/Networkx/Graph25.gml')"
      ]
    },
    {
      "cell_type": "code",
      "execution_count": null,
      "metadata": {
        "id": "DYctGiJEmgvb"
      },
      "outputs": [],
      "source": [
        "G30 = nx.read_gml('/content/gdrive/MyDrive/Networkx/Graph30.gml')"
      ]
    },
    {
      "cell_type": "code",
      "execution_count": null,
      "metadata": {
        "id": "UEB6sFarmgvb"
      },
      "outputs": [],
      "source": [
        "G35 = nx.read_gml('/content/gdrive/MyDrive/Networkx/Graph35.gml')"
      ]
    },
    {
      "cell_type": "code",
      "execution_count": null,
      "metadata": {
        "id": "jI57hoWPF-lW"
      },
      "outputs": [],
      "source": [
        "Astar20E = AstarEnergy(G20)"
      ]
    },
    {
      "cell_type": "code",
      "execution_count": null,
      "metadata": {
        "id": "shPdvad8vAXF"
      },
      "outputs": [],
      "source": [
        ""
      ]
    },
    {
      "cell_type": "markdown",
      "metadata": {
        "id": "nTuz4A_ivExo"
      },
      "source": [
        "#### Energy consumption with Dijstra Algorithm"
      ]
    },
    {
      "cell_type": "code",
      "execution_count": null,
      "metadata": {
        "id": "2QkWmcJWvJcH"
      },
      "outputs": [],
      "source": [
        "def DijstraEnergy(Graph):\n",
        "    list_nodes = list(Graph.nodes())\n",
        "    activenodes = list_nodes[1:]\n",
        "    random.seed(237)\n",
        "    #S = listnodes[1]\n",
        "    D = list_nodes[0]\n",
        "    # This list contains the sum of the transmission energy in all the possible paths\n",
        "    Ex = []\n",
        "    t = []\n",
        "    ListeEnergy = []\n",
        "    start = time.time()\n",
        "    for k in range(1000):\n",
        "\n",
        "        S = random.choice(activenodes)\n",
        "        liste = nx.single_source_dijkstra(Graph, S, D, weight='weight')[1] \n",
        "        Energy = []               # Energy will contains all the transmission energy in each segment of a certain path\n",
        "\n",
        "        for i in range(len(liste)):\n",
        "            if i == 0:\n",
        "                Graph.nodes[liste[i]][\"Energy\"] -= ETx(Graph[liste[i]][liste[i + 1]]['weight'])\n",
        "                Energy.append(ETx(Graph[liste[i]][liste[i + 1]]['weight'])) \n",
        "            elif i!=0 and i!= len(liste) - 1:\n",
        "                Graph.nodes[liste[i]][\"Energy\"] = Graph.nodes[liste[i]][\"Energy\"] - ETx(Graph[liste[i]][liste[i + 1]]['weight']) - ERex \n",
        "                Energy.append(ETx(Graph[liste[i]][liste[i + 1]]['weight']) + ERex)\n",
        "            Energysum = sum(Energy)\n",
        "\n",
        "        ListeEnergy.append(Energysum)\n",
        "        r = time.time() - start\n",
        "        t.append(r) \n",
        "        #Ex.append(ListeEnergy)\n",
        "\n",
        "        #plt.plot(ListeEnergy)\n",
        "        #plt.show()\n",
        "    final = time.time() - start\n",
        "    return sum(ListeEnergy), final, t, ListeEnergy, np.mean(ListeEnergy), np.std(ListeEnergy), (np.std(ListeEnergy)/np.mean(ListeEnergy))*100           "
      ]
    },
    {
      "cell_type": "code",
      "execution_count": null,
      "metadata": {
        "id": "ai5qRa2HmojV"
      },
      "outputs": [],
      "source": [
        ""
      ]
    },
    {
      "cell_type": "code",
      "execution_count": null,
      "metadata": {
        "id": "-9x_KVd4mo9L"
      },
      "outputs": [],
      "source": [
        "G20 = nx.read_gml('/content/gdrive/MyDrive/Networkx/Graph20.gml')"
      ]
    },
    {
      "cell_type": "code",
      "execution_count": null,
      "metadata": {
        "id": "ztfPD68omo9M"
      },
      "outputs": [],
      "source": [
        "G25 = nx.read_gml('/content/gdrive/MyDrive/Networkx/Graph25.gml')"
      ]
    },
    {
      "cell_type": "code",
      "execution_count": null,
      "metadata": {
        "id": "jTtPKKE6mo9M"
      },
      "outputs": [],
      "source": [
        "G30 = nx.read_gml('/content/gdrive/MyDrive/Networkx/Graph30.gml')"
      ]
    },
    {
      "cell_type": "code",
      "execution_count": null,
      "metadata": {
        "id": "0zIxK4Womo9N"
      },
      "outputs": [],
      "source": [
        "G35 = nx.read_gml('/content/gdrive/MyDrive/Networkx/Graph35.gml')"
      ]
    },
    {
      "cell_type": "code",
      "execution_count": null,
      "metadata": {
        "id": "wST000unvO1e"
      },
      "outputs": [],
      "source": [
        "Dijstra20E = DijstraEnergy(G20)"
      ]
    },
    {
      "cell_type": "code",
      "execution_count": null,
      "metadata": {
        "id": "P3xNKVbwvR5S"
      },
      "outputs": [],
      "source": [
        ""
      ]
    },
    {
      "cell_type": "markdown",
      "metadata": {
        "id": "L_CezZXj7LyD"
      },
      "source": [
        "#### Energy Consumption with RLDPP"
      ]
    },
    {
      "cell_type": "code",
      "execution_count": null,
      "metadata": {
        "id": "CH_8Zg_46kgY"
      },
      "outputs": [],
      "source": [
        "def compute(Graph, liste):\n",
        "    ListeEnergy = [] # This list contains the sum of the transmission energy in all the possible paths \n",
        "    # l = []\n",
        "    # for j in liste: # j will go through all the length of our liste of possible paths\n",
        "    #   if deadNodes(Graph,j) is not None:\n",
        "    #     l.append(deadNodes(Graph,j))\n",
        "        \n",
        "    # liste = [i for i in liste if isFeasible(Graph,i)]### all possible paths according to the energy able to share the information in the network\n",
        "\n",
        "\n",
        "\n",
        "    for j in range(len(liste)): # j will go through all the length of our liste of possible paths\n",
        "\n",
        "        Energy = []               # Energy will contains all the transmission energy in each segment of a certain path\n",
        "\n",
        "        for i in range(len(liste[j])): # i will go through all the length of one of the possible path\n",
        "\n",
        "            if i == 0:                   # If the node is the source node, we don't use the ERx                                           # We update the energy of the source node\n",
        "\n",
        "                Energy.append(ETx(Graph[liste[j][i]][liste[j][i + 1]]['weight']))                                                                # We append the transmission energy in the liste Energy that we have created \n",
        "\n",
        "            elif i!=0 and i!= len(liste[j]) - 1:                                                                                            # If the node is a node situated in the transfer path \n",
        "\n",
        "                Energy.append(ETx(Graph[liste[j][i]][liste[j][i + 1]]['weight']) + ERex)                                                               # We append the transmission energy in the liste Energy that we have created                                                            # The energy of the destination node remains the same\n",
        "\n",
        "            Energysum = sum(Energy)                                              # We sum the transmission energy of all the segment of each path \n",
        "\n",
        "        ListeEnergy.append(Energysum)                                          # We append the transmission energy of each path\n",
        "    x = min(ListeEnergy)\n",
        "    y = ListeEnergy\n",
        "    return x, y\n"
      ]
    },
    {
      "cell_type": "code",
      "execution_count": null,
      "metadata": {
        "id": "rlJtz0N2wrb8"
      },
      "outputs": [],
      "source": [
        ""
      ]
    },
    {
      "cell_type": "code",
      "execution_count": null,
      "metadata": {
        "id": "BEQV9WkP7Lod"
      },
      "outputs": [],
      "source": [
        "\n",
        "random.seed(237) # l = []\n",
        " \n",
        "def NewEnergy(Graph):\n",
        "    listnodes = list(Graph.nodes())\n",
        "    activenodes = listnodes[1:]\n",
        "    Ex = []\n",
        "    t = []\n",
        "    start = time.time()\n",
        "    for k in range(1000):\n",
        "        S = random.choice(activenodes)\n",
        "        # S = listnodes[1]\n",
        "        D = listnodes[0]\n",
        "\n",
        "        paths = nx.all_simple_paths(Graph, source=S, target=D,cutoff=7)\n",
        "        liste = list(paths)\n",
        "        x = compute(Graph, liste)[0]\n",
        "        y = compute(Graph, liste)[1]\n",
        "        Index = y.index(x)  \n",
        "        l = liste[Index]\n",
        "\n",
        "        for i in range(len(l)): # i will go through all the length of one of the possible path\n",
        "\n",
        "            if i == 0:                   # If the node is the source node, we don't use the ERx\n",
        "\n",
        "                Graph.nodes[l[i]][\"Energy\"] -= ETx(Graph[l[i]][l[i + 1]]['weight'])                                             # We update the energy of the source node\n",
        "\n",
        "            elif i!=0 and i!= len(l) - 1:                                                                                            # If the node is a node situated in the transfer path \n",
        "\n",
        "                Graph.nodes[l[i]][\"Energy\"] = Graph.nodes[l[i]][\"Energy\"] - ETx(Graph[l[i]][l[i + 1]]['weight']) - ERex   # We update the energy of each node situated in the transfer path\n",
        "\n",
        "        Ex.append(x)\n",
        "        r = time.time() - start\n",
        "        t.append(r)\n",
        "    final = time.time() - start\n",
        "    return sum(Ex), final, t, Ex, np.mean(Ex), np.std(Ex), (np.std(Ex)/np.mean(Ex))*100\n",
        "\n"
      ]
    },
    {
      "cell_type": "code",
      "execution_count": null,
      "metadata": {
        "colab": {
          "base_uri": "https://localhost:8080/"
        },
        "id": "VpVNP8JFmxfq",
        "outputId": "b5873415-ac44-4cd2-955d-cd9748b1ab51"
      },
      "outputs": [
        {
          "data": {
            "text/plain": [
              "2"
            ]
          },
          "execution_count": 145,
          "metadata": {},
          "output_type": "execute_result"
        }
      ],
      "source": [
        "G25.nodes['8'][\"Energy\"]"
      ]
    },
    {
      "cell_type": "code",
      "execution_count": null,
      "metadata": {
        "id": "PvcmOwO1mxs-"
      },
      "outputs": [],
      "source": [
        "G20 = nx.read_gml('/content/gdrive/MyDrive/Networkx/Graph21.gml')"
      ]
    },
    {
      "cell_type": "code",
      "execution_count": null,
      "metadata": {
        "id": "yhEsKew6mxs_"
      },
      "outputs": [],
      "source": [
        "G25 = nx.read_gml('/content/gdrive/MyDrive/Networkx/Graph25.gml')"
      ]
    },
    {
      "cell_type": "code",
      "execution_count": null,
      "metadata": {
        "id": "q5aEBdZZmxs_"
      },
      "outputs": [],
      "source": [
        "G30 = nx.read_gml('/content/gdrive/MyDrive/Networkx/Graph30.gml')"
      ]
    },
    {
      "cell_type": "code",
      "execution_count": null,
      "metadata": {
        "id": "drqQfyqtmxs_"
      },
      "outputs": [],
      "source": [
        "G35 = nx.read_gml('/content/gdrive/MyDrive/Networkx/Graph35.gml')"
      ]
    },
    {
      "cell_type": "code",
      "execution_count": null,
      "metadata": {
        "id": "ZiGmyfMH7Ll7"
      },
      "outputs": [],
      "source": [
        "Method20E = NewEnergy(G20)"
      ]
    },
    {
      "cell_type": "code",
      "execution_count": null,
      "metadata": {
        "id": "iGmJxp3PnJ0b"
      },
      "outputs": [],
      "source": [
        "EDijstra20 = np.cumsum(Dijstra20E[3])\n",
        "EAstar20 = np.cumsum(Astar20E[3])\n",
        "EMethod20 = np.cumsum(Method20E[3])"
      ]
    },
    {
      "cell_type": "code",
      "execution_count": null,
      "metadata": {
        "colab": {
          "base_uri": "https://localhost:8080/"
        },
        "id": "wvEe-3BQvBBy",
        "outputId": "29de222a-a814-4523-8397-1fb5937c2cef"
      },
      "outputs": [
        {
          "name": "stdout",
          "output_type": "stream",
          "text": [
            "Drive already mounted at /content/gdrive; to attempt to forcibly remount, call drive.mount(\"/content/gdrive\", force_remount=True).\n"
          ]
        }
      ],
      "source": [
        "from google.colab import drive\n",
        "drive.mount('/content/gdrive')"
      ]
    },
    {
      "cell_type": "code",
      "execution_count": null,
      "metadata": {
        "id": "TCwRpY-pww9_"
      },
      "outputs": [],
      "source": [
        "import matplotlib.pyplot as plt"
      ]
    },
    {
      "cell_type": "code",
      "execution_count": null,
      "metadata": {
        "colab": {
          "base_uri": "https://localhost:8080/",
          "height": 279
        },
        "id": "QIfgzotZkP3w",
        "outputId": "ae66659f-93f1-497f-86fd-a776c3a5194f"
      },
      "outputs": [
        {
          "data": {
            "image/png": "[encoded data removed]",
            "text/plain": [
              "<Figure size 432x288 with 1 Axes>"
            ]
          },
          "metadata": {},
          "output_type": "display_data"
        }
      ],
      "source": [
        "import matplotlib.pyplot as plt\n",
        "plt.plot(EMethod20, label='RLDPP')\n",
        "plt.plot(EAstar20, 'o',linestyle='dashed',linewidth=0.5, label='A star ')\n",
        "plt.plot(EDijstra20, label='Dijstra')\n",
        "#plt.xlim(0, 150)\n",
        "plt.xlabel('No of request')\n",
        "plt.ylabel('Energy Consumption (J)')\n",
        "plt.legend()\n",
        "plt.savefig('/content/gdrive/MyDrive/Networkx/Energy20.png')\n",
        "plt.show()"
      ]
    },
    {
      "cell_type": "code",
      "execution_count": null,
      "metadata": {
        "id": "FXH8RSpKjVDd"
      },
      "outputs": [],
      "source": [
        ""
      ]
    },
    {
      "cell_type": "markdown",
      "metadata": {
        "id": "XTt8mBTlu22W"
      },
      "source": [
        "Graph of Energy Consumption for 25 nodes"
      ]
    },
    {
      "cell_type": "code",
      "execution_count": null,
      "metadata": {
        "id": "HOOIGr69u9vZ"
      },
      "outputs": [],
      "source": [
        "G25 = nx.read_gml('/content/gdrive/MyDrive/Networkx/Graph25.gml')"
      ]
    },
    {
      "cell_type": "code",
      "execution_count": null,
      "metadata": {
        "id": "-_lMZiOFv2wP"
      },
      "outputs": [],
      "source": [
        "Astar25E = AstarEnergy(G25)"
      ]
    },
    {
      "cell_type": "code",
      "execution_count": null,
      "metadata": {
        "id": "551nmqPInjdG"
      },
      "outputs": [],
      "source": [
        "G25 = nx.read_gml('/content/gdrive/MyDrive/Networkx/Graph25.gml')"
      ]
    },
    {
      "cell_type": "code",
      "execution_count": null,
      "metadata": {
        "id": "LqOqOhJxv2we"
      },
      "outputs": [],
      "source": [
        "Dijstra25E = DijstraEnergy(G25)"
      ]
    },
    {
      "cell_type": "code",
      "execution_count": null,
      "metadata": {
        "id": "_RZ_uBt1nkzM"
      },
      "outputs": [],
      "source": [
        "G25 = nx.read_gml('/content/gdrive/MyDrive/Networkx/Graph25.gml')"
      ]
    },
    {
      "cell_type": "code",
      "execution_count": null,
      "metadata": {
        "id": "9_wj2BrIv2we"
      },
      "outputs": [],
      "source": [
        "Method25E = NewEnergy(G25)"
      ]
    },
    {
      "cell_type": "code",
      "execution_count": null,
      "metadata": {
        "id": "iQDMHe-ov2wf"
      },
      "outputs": [],
      "source": [
        "EAstar25 = np.cumsum(Astar25E[3])\n",
        "EDijstra25 = np.cumsum(Dijstra25E[3])\n",
        "EMethod25 = np.cumsum(Method25E[3])"
      ]
    },
    {
      "cell_type": "code",
      "execution_count": null,
      "metadata": {
        "colab": {
          "base_uri": "https://localhost:8080/",
          "height": 279
        },
        "id": "RuEG-SIhv2wf",
        "outputId": "077f4bb2-4372-4cfa-9efa-f74c13ea5d58"
      },
      "outputs": [
        {
          "data": {
            "image/png": "[encoded data removed]",
            "text/plain": [
              "<Figure size 432x288 with 1 Axes>"
            ]
          },
          "metadata": {
            "needs_background": "light"
          },
          "output_type": "display_data"
        }
      ],
      "source": [
        "import matplotlib.pyplot as plt\n",
        "plt.plot(EMethod25, label='RLDPP')\n",
        "plt.plot(EAstar25, 'o',linestyle='dashed',linewidth=0.5, label='A star ')\n",
        "plt.plot(EDijstra25, label='Dijstra')\n",
        "#plt.xlim(0, 80)\n",
        "plt.xlabel('No of request')\n",
        "plt.ylabel('Energy Consumption (J)')\n",
        "plt.legend()\n",
        "plt.savefig('/content/gdrive/MyDrive/Networkx/Energy25.png')\n",
        "plt.show()"
      ]
    },
    {
      "cell_type": "markdown",
      "metadata": {
        "id": "AHKAcr_OwmdS"
      },
      "source": [
        "Graph of Energy Consumption for 30 nodes"
      ]
    },
    {
      "cell_type": "code",
      "execution_count": null,
      "metadata": {
        "id": "-vGveQOMwtjn"
      },
      "outputs": [],
      "source": [
        "G30 = nx.read_gml('/content/gdrive/MyDrive/Networkx/Graph30.gml')"
      ]
    },
    {
      "cell_type": "code",
      "execution_count": null,
      "metadata": {
        "id": "y3Ha-KS4wt6_"
      },
      "outputs": [],
      "source": [
        "Astar30E = AstarEnergy(G30)"
      ]
    },
    {
      "cell_type": "code",
      "execution_count": null,
      "metadata": {
        "id": "OVTybFbSoBN2"
      },
      "outputs": [],
      "source": [
        "G30 = nx.read_gml('/content/gdrive/MyDrive/Networkx/Graph30.gml')"
      ]
    },
    {
      "cell_type": "code",
      "execution_count": null,
      "metadata": {
        "id": "MBWVSLPawt6_"
      },
      "outputs": [],
      "source": [
        "Dijstra30E = DijstraEnergy(G30)"
      ]
    },
    {
      "cell_type": "code",
      "execution_count": null,
      "metadata": {
        "id": "G87Vuz2goCQW"
      },
      "outputs": [],
      "source": [
        "G30 = nx.read_gml('/content/gdrive/MyDrive/Networkx/Graph30.gml')"
      ]
    },
    {
      "cell_type": "code",
      "execution_count": null,
      "metadata": {
        "id": "xlYO-yOkxAMB"
      },
      "outputs": [],
      "source": [
        "Method30E = NewEnergy(G30)"
      ]
    },
    {
      "cell_type": "code",
      "execution_count": null,
      "metadata": {
        "id": "RAPifKI8wt6_"
      },
      "outputs": [],
      "source": [
        "EAstar30 = np.cumsum(Astar30E[3])\n",
        "EDijstra30 = np.cumsum(Dijstra30E[3])\n",
        "EMethod30 = np.cumsum(Method30E[3])"
      ]
    },
    {
      "cell_type": "code",
      "execution_count": null,
      "metadata": {
        "colab": {
          "base_uri": "https://localhost:8080/",
          "height": 279
        },
        "id": "id8fAt7hwt6_",
        "outputId": "40826c99-4303-42de-9395-76b5bb722064"
      },
      "outputs": [
        {
          "data": {
            "image/png": "[encoded data removed]",
            "text/plain": [
              "<Figure size 432x288 with 1 Axes>"
            ]
          },
          "metadata": {
            "needs_background": "light"
          },
          "output_type": "display_data"
        }
      ],
      "source": [
        "import matplotlib.pyplot as plt\n",
        "plt.plot(EMethod30, label='RLDPP')\n",
        "plt.plot(EAstar30, 'o',linestyle='dashed',linewidth=0.5, label='A star ')\n",
        "plt.plot(EDijstra30, label='Dijstra')\n",
        "#plt.xlim(0, 150)\n",
        "plt.xlabel('No of request')\n",
        "plt.ylabel('Energy Consumption (J)')\n",
        "plt.legend()\n",
        "plt.savefig('/content/gdrive/MyDrive/Networkx/Energy30.png')\n",
        "plt.show()"
      ]
    },
    {
      "cell_type": "markdown",
      "metadata": {
        "id": "EUuXRqs6A5Gx"
      },
      "source": [
        "Network Topology of the differents graphs used"
      ]
    },
    {
      "cell_type": "markdown",
      "metadata": {
        "id": "GAGFLWYM71gL"
      },
      "source": [
        "#### Statistical Analysis"
      ]
    },
    {
      "cell_type": "markdown",
      "metadata": {
        "id": "rHHhR0Eq71gM"
      },
      "source": [
        "First Graph(20 nodes)"
      ]
    },
    {
      "cell_type": "code",
      "execution_count": null,
      "metadata": {
        "id": "gf2qnG15tDCI"
      },
      "outputs": [],
      "source": [
        "G20 = nx.read_gml('/content/gdrive/MyDrive/Networkx/Graph20.gml')"
      ]
    },
    {
      "cell_type": "code",
      "execution_count": null,
      "metadata": {
        "colab": {
          "base_uri": "https://localhost:8080/"
        },
        "id": "1aNQuijaBZxF",
        "outputId": "57a82559-a084-4cf7-c4b3-ce2a3310ce54"
      },
      "outputs": [
        {
          "data": {
            "text/plain": [
              "20"
            ]
          },
          "execution_count": 163,
          "metadata": {},
          "output_type": "execute_result"
        }
      ],
      "source": [
        "N20 = len(G20.nodes())\n",
        "N20"
      ]
    },
    {
      "cell_type": "code",
      "execution_count": null,
      "metadata": {
        "colab": {
          "base_uri": "https://localhost:8080/"
        },
        "id": "Oc4m6orbBg2Y",
        "outputId": "00dcfa8f-5e6a-4250-9286-1bd4c1a37bdd"
      },
      "outputs": [
        {
          "data": {
            "text/plain": [
              "55"
            ]
          },
          "execution_count": 164,
          "metadata": {},
          "output_type": "execute_result"
        }
      ],
      "source": [
        "L20 = len(G20.edges())\n",
        "L20"
      ]
    },
    {
      "cell_type": "code",
      "execution_count": null,
      "metadata": {
        "colab": {
          "base_uri": "https://localhost:8080/"
        },
        "id": "i5aoAVryBgzi",
        "outputId": "51444ec5-f5ff-4afb-b993-0a94ed515227"
      },
      "outputs": [
        {
          "data": {
            "text/plain": [
              "3"
            ]
          },
          "execution_count": 165,
          "metadata": {},
          "output_type": "execute_result"
        }
      ],
      "source": [
        "delta20 = nx.diameter(G20)\n",
        "delta20"
      ]
    },
    {
      "cell_type": "code",
      "execution_count": null,
      "metadata": {
        "colab": {
          "base_uri": "https://localhost:8080/"
        },
        "id": "v4FZbYFTBgwt",
        "outputId": "4b22ba09-c216-44d4-aca3-aa461b095481"
      },
      "outputs": [
        {
          "data": {
            "text/plain": [
              "5.5"
            ]
          },
          "execution_count": 166,
          "metadata": {},
          "output_type": "execute_result"
        }
      ],
      "source": [
        "Avgdeg20 = sum(dict(G20.degree()).values())/float(len(G20))\n",
        "Avgdeg20"
      ]
    },
    {
      "cell_type": "code",
      "execution_count": null,
      "metadata": {
        "id": "pO7K2fLRBguX"
      },
      "outputs": [],
      "source": [
        "deg = sorted(dict(G20.degree()).values())\n",
        "deg\n",
        "Maxdeg20 = max(deg)\n",
        "Mindeg20 = min(deg)"
      ]
    },
    {
      "cell_type": "code",
      "execution_count": null,
      "metadata": {
        "colab": {
          "base_uri": "https://localhost:8080/"
        },
        "id": "Aeqerw8PBgoH",
        "outputId": "375544be-e171-4de7-8f72-b515bcb0f07f"
      },
      "outputs": [
        {
          "name": "stdout",
          "output_type": "stream",
          "text": [
            "11 3\n"
          ]
        }
      ],
      "source": [
        "print(Maxdeg20, Mindeg20)"
      ]
    },
    {
      "cell_type": "code",
      "execution_count": null,
      "metadata": {
        "colab": {
          "base_uri": "https://localhost:8080/"
        },
        "id": "ewkxR3ctBglp",
        "outputId": "53d26862-8ca8-476a-dda9-5505833e2258"
      },
      "outputs": [
        {
          "data": {
            "text/plain": [
              "1.8631578947368421"
            ]
          },
          "execution_count": 169,
          "metadata": {},
          "output_type": "execute_result"
        }
      ],
      "source": [
        "AvgLink = nx.average_shortest_path_length(G20, weight='weigth')\n",
        "AvgLink"
      ]
    },
    {
      "cell_type": "code",
      "execution_count": null,
      "metadata": {
        "id": "QrBINMh8BgiM"
      },
      "outputs": [],
      "source": [
        ""
      ]
    },
    {
      "cell_type": "markdown",
      "metadata": {
        "id": "v2yKa76XCiCA"
      },
      "source": [
        "Second Graph(25 nodes)"
      ]
    },
    {
      "cell_type": "code",
      "execution_count": null,
      "metadata": {
        "id": "mE_7-yw5CkVZ"
      },
      "outputs": [],
      "source": [
        "#nx.write_gml(G25, \"/content/gdrive/MyDrive/Networkx/Graph25.gml\")"
      ]
    },
    {
      "cell_type": "code",
      "execution_count": null,
      "metadata": {
        "id": "fhDdksHitdmu"
      },
      "outputs": [],
      "source": [
        "G25 = nx.read_gml('/content/gdrive/MyDrive/Networkx/Graph25.gml')"
      ]
    },
    {
      "cell_type": "code",
      "execution_count": null,
      "metadata": {
        "colab": {
          "base_uri": "https://localhost:8080/"
        },
        "id": "yIzgCNgHCkwf",
        "outputId": "adb6035c-6e30-4ae8-bd7e-7c6e162d7064"
      },
      "outputs": [
        {
          "data": {
            "text/plain": [
              "25"
            ]
          },
          "execution_count": 171,
          "metadata": {},
          "output_type": "execute_result"
        }
      ],
      "source": [
        "N25 = len(G25.nodes())\n",
        "N25"
      ]
    },
    {
      "cell_type": "code",
      "execution_count": null,
      "metadata": {
        "colab": {
          "base_uri": "https://localhost:8080/"
        },
        "id": "bPlbDH30Ckwf",
        "outputId": "157e2896-183f-46eb-8a08-1e0a26e98d3d"
      },
      "outputs": [
        {
          "data": {
            "text/plain": [
              "83"
            ]
          },
          "execution_count": 172,
          "metadata": {},
          "output_type": "execute_result"
        }
      ],
      "source": [
        "L25 = len(G25.edges())\n",
        "L25"
      ]
    },
    {
      "cell_type": "code",
      "execution_count": null,
      "metadata": {
        "colab": {
          "base_uri": "https://localhost:8080/"
        },
        "id": "M-ivz-4OCkwg",
        "outputId": "db8ee8a3-357b-46b7-c58a-0b983359fa56"
      },
      "outputs": [
        {
          "data": {
            "text/plain": [
              "3"
            ]
          },
          "execution_count": 173,
          "metadata": {},
          "output_type": "execute_result"
        }
      ],
      "source": [
        "delta25 = nx.diameter(G25)\n",
        "delta25"
      ]
    },
    {
      "cell_type": "code",
      "execution_count": null,
      "metadata": {
        "colab": {
          "base_uri": "https://localhost:8080/"
        },
        "id": "zDO5VjXECkwg",
        "outputId": "dcddf841-ae3b-4fb3-d52a-8711269a115b"
      },
      "outputs": [
        {
          "data": {
            "text/plain": [
              "6.64"
            ]
          },
          "execution_count": 174,
          "metadata": {},
          "output_type": "execute_result"
        }
      ],
      "source": [
        "Avgdeg25 = sum(dict(G25.degree()).values())/float(len(G25))\n",
        "Avgdeg25"
      ]
    },
    {
      "cell_type": "code",
      "execution_count": null,
      "metadata": {
        "id": "I1yS45g5Ckwg"
      },
      "outputs": [],
      "source": [
        "deg25 = sorted(dict(G25.degree()).values())\n",
        "Maxdeg25 = max(deg25)\n",
        "Mindeg25 = min(deg25)"
      ]
    },
    {
      "cell_type": "code",
      "execution_count": null,
      "metadata": {
        "colab": {
          "base_uri": "https://localhost:8080/"
        },
        "id": "qPUE56ieCkwh",
        "outputId": "3a63039b-2d6c-4071-df4d-9d0933e567d2"
      },
      "outputs": [
        {
          "name": "stdout",
          "output_type": "stream",
          "text": [
            "12 3\n"
          ]
        }
      ],
      "source": [
        "print(Maxdeg25, Mindeg25)"
      ]
    },
    {
      "cell_type": "code",
      "execution_count": null,
      "metadata": {
        "colab": {
          "base_uri": "https://localhost:8080/"
        },
        "id": "pla3Qb19Ckwh",
        "outputId": "7360f957-9dc2-4e3c-aa4f-1f77bc6e853f"
      },
      "outputs": [
        {
          "data": {
            "text/plain": [
              "1.8166666666666667"
            ]
          },
          "execution_count": 177,
          "metadata": {},
          "output_type": "execute_result"
        }
      ],
      "source": [
        "AvgLink25 = nx.average_shortest_path_length(G25, weight='weigth')\n",
        "AvgLink25"
      ]
    },
    {
      "cell_type": "markdown",
      "metadata": {
        "id": "jXiOxUAWDF53"
      },
      "source": [
        "Third Graph (30 nodes)"
      ]
    },
    {
      "cell_type": "code",
      "execution_count": null,
      "metadata": {
        "id": "sLjzZYvHc2n7"
      },
      "outputs": [],
      "source": [
        "# nx.write_gml(G30, \"/content/gdrive/MyDrive/Networkx/Graph30.gml\")"
      ]
    },
    {
      "cell_type": "code",
      "execution_count": null,
      "metadata": {
        "id": "4r6pngfbtuvC"
      },
      "outputs": [],
      "source": [
        "G30 = nx.read_gml('/content/gdrive/MyDrive/Networkx/Graph30.gml')"
      ]
    },
    {
      "cell_type": "code",
      "execution_count": null,
      "metadata": {
        "colab": {
          "base_uri": "https://localhost:8080/"
        },
        "id": "aoCt-1n1DKx6",
        "outputId": "5551a54b-3256-489e-a817-618aa7203072"
      },
      "outputs": [
        {
          "data": {
            "text/plain": [
              "30"
            ]
          },
          "execution_count": 20,
          "metadata": {},
          "output_type": "execute_result"
        }
      ],
      "source": [
        "N30 = len(G30.nodes())\n",
        "N30"
      ]
    },
    {
      "cell_type": "code",
      "execution_count": null,
      "metadata": {
        "colab": {
          "base_uri": "https://localhost:8080/"
        },
        "id": "pVE7ZwmEDKx7",
        "outputId": "6a23c0e3-8bc9-4d63-b54b-0a0187b797da"
      },
      "outputs": [
        {
          "data": {
            "text/plain": [
              "125"
            ]
          },
          "execution_count": 21,
          "metadata": {},
          "output_type": "execute_result"
        }
      ],
      "source": [
        "L30 = len(G30.edges())\n",
        "L30"
      ]
    },
    {
      "cell_type": "code",
      "execution_count": null,
      "metadata": {
        "colab": {
          "base_uri": "https://localhost:8080/"
        },
        "id": "lJQwUcB-DKx7",
        "outputId": "e6532de8-bda0-4dc1-cb25-684c6d29ef8c"
      },
      "outputs": [
        {
          "data": {
            "text/plain": [
              "3"
            ]
          },
          "execution_count": 22,
          "metadata": {},
          "output_type": "execute_result"
        }
      ],
      "source": [
        "delta30 = nx.diameter(G30)\n",
        "delta30"
      ]
    },
    {
      "cell_type": "code",
      "execution_count": null,
      "metadata": {
        "colab": {
          "base_uri": "https://localhost:8080/"
        },
        "id": "fA0xw1FfDKx7",
        "outputId": "c0e614fa-5bb3-4fcd-ba71-91808e5d0a37"
      },
      "outputs": [
        {
          "data": {
            "text/plain": [
              "8.333333333333334"
            ]
          },
          "execution_count": 23,
          "metadata": {},
          "output_type": "execute_result"
        }
      ],
      "source": [
        "Avgdeg30 = sum(dict(G30.degree()).values())/float(len(G30))\n",
        "Avgdeg30"
      ]
    },
    {
      "cell_type": "code",
      "execution_count": null,
      "metadata": {
        "id": "aJE9vUxKDKx8"
      },
      "outputs": [],
      "source": [
        "deg30 = sorted(dict(G30.degree()).values())\n",
        "Maxdeg30 = max(deg30)\n",
        "Mindeg30 = min(deg30)"
      ]
    },
    {
      "cell_type": "code",
      "execution_count": null,
      "metadata": {
        "colab": {
          "base_uri": "https://localhost:8080/"
        },
        "id": "DeBfGEdxDKx9",
        "outputId": "11f5ebb2-0d31-4934-d3f3-548b7a994207"
      },
      "outputs": [
        {
          "name": "stdout",
          "output_type": "stream",
          "text": [
            "15 3\n"
          ]
        }
      ],
      "source": [
        "print(Maxdeg30, Mindeg30)"
      ]
    },
    {
      "cell_type": "code",
      "execution_count": null,
      "metadata": {
        "colab": {
          "base_uri": "https://localhost:8080/"
        },
        "id": "QFZnXSvEDKx9",
        "outputId": "03ee7fd4-cbab-467d-edf5-39916699c3c5"
      },
      "outputs": [
        {
          "data": {
            "text/plain": [
              "1.7770114942528736"
            ]
          },
          "execution_count": 26,
          "metadata": {},
          "output_type": "execute_result"
        }
      ],
      "source": [
        "AvgLink30 = nx.average_shortest_path_length(G30, weight='weigth')\n",
        "AvgLink30"
      ]
    },
    {
      "cell_type": "code",
      "execution_count": null,
      "metadata": {
        "id": "JE1pMkvlPLje"
      },
      "outputs": [],
      "source": [
        ""
      ]
    },
    {
      "cell_type": "markdown",
      "metadata": {
        "id": "yDcA6443Eh9T"
      },
      "source": [
        "#### Statistical Analysis Part 2"
      ]
    },
    {
      "cell_type": "markdown",
      "metadata": {
        "id": "K2aTk2V9FKN4"
      },
      "source": [
        "##### Analysis for 20 nodes"
      ]
    },
    {
      "cell_type": "code",
      "execution_count": null,
      "metadata": {
        "id": "EDBPTdiemcKX"
      },
      "outputs": [],
      "source": [
        "MeanAstar20 = Astar20E[4]\n",
        "StdAstar20 = Astar20E[5]\n",
        "PearsonAstar20 = Astar20E[6]"
      ]
    },
    {
      "cell_type": "code",
      "execution_count": null,
      "metadata": {
        "colab": {
          "base_uri": "https://localhost:8080/"
        },
        "id": "OAIEMMLrrUJt",
        "outputId": "3936bae0-def1-4491-d6fb-c429de107137"
      },
      "outputs": [
        {
          "data": {
            "text/plain": [
              "0.0007542953999999999"
            ]
          },
          "execution_count": 47,
          "metadata": {},
          "output_type": "execute_result"
        }
      ],
      "source": [
        "MeanAstar20"
      ]
    },
    {
      "cell_type": "code",
      "execution_count": null,
      "metadata": {
        "colab": {
          "base_uri": "https://localhost:8080/"
        },
        "id": "e9PJmnZtvn9s",
        "outputId": "dca2b492-1a4f-4546-e7fb-24a170922f21"
      },
      "outputs": [
        {
          "data": {
            "text/plain": [
              "0.0003127853884791296"
            ]
          },
          "execution_count": 48,
          "metadata": {},
          "output_type": "execute_result"
        }
      ],
      "source": [
        "StdAstar20"
      ]
    },
    {
      "cell_type": "code",
      "execution_count": null,
      "metadata": {
        "colab": {
          "base_uri": "https://localhost:8080/"
        },
        "id": "UXQgQ4INvxVi",
        "outputId": "d71cc2ba-0cf8-4b3c-8de6-3696f231321f"
      },
      "outputs": [
        {
          "data": {
            "text/plain": [
              "41.467227359351476"
            ]
          },
          "execution_count": 49,
          "metadata": {},
          "output_type": "execute_result"
        }
      ],
      "source": [
        "PearsonAstar20"
      ]
    },
    {
      "cell_type": "code",
      "execution_count": null,
      "metadata": {
        "id": "Hl76xszCrXbI"
      },
      "outputs": [],
      "source": [
        "MeanDijstra20 = Dijstra20E[4]\n",
        "StdDijstra20 = Dijstra20E[5]\n",
        "PearsonDijstra20 = Dijstra20E[6]"
      ]
    },
    {
      "cell_type": "code",
      "execution_count": null,
      "metadata": {
        "colab": {
          "base_uri": "https://localhost:8080/"
        },
        "id": "bwp4ziMPv50p",
        "outputId": "17766792-fd3c-4d8b-d624-a808241833ee"
      },
      "outputs": [
        {
          "data": {
            "text/plain": [
              "0.0007542953999999999"
            ]
          },
          "execution_count": 51,
          "metadata": {},
          "output_type": "execute_result"
        }
      ],
      "source": [
        "MeanDijstra20 "
      ]
    },
    {
      "cell_type": "code",
      "execution_count": null,
      "metadata": {
        "colab": {
          "base_uri": "https://localhost:8080/"
        },
        "id": "oRjxHsqOv8yK",
        "outputId": "c4987d10-b9da-4e1f-c556-7001830748e3"
      },
      "outputs": [
        {
          "data": {
            "text/plain": [
              "0.0003127853884791296"
            ]
          },
          "execution_count": 52,
          "metadata": {},
          "output_type": "execute_result"
        }
      ],
      "source": [
        "StdDijstra20"
      ]
    },
    {
      "cell_type": "code",
      "execution_count": null,
      "metadata": {
        "colab": {
          "base_uri": "https://localhost:8080/"
        },
        "id": "oDg3ScFsv_0V",
        "outputId": "72a507ce-33d4-40fd-fc79-7ecb097b1a33"
      },
      "outputs": [
        {
          "data": {
            "text/plain": [
              "41.467227359351476"
            ]
          },
          "execution_count": 53,
          "metadata": {},
          "output_type": "execute_result"
        }
      ],
      "source": [
        "PearsonDijstra20"
      ]
    },
    {
      "cell_type": "code",
      "execution_count": null,
      "metadata": {
        "id": "puSK65JvsTWd"
      },
      "outputs": [],
      "source": [
        "MeanNew20 = Method20E[4]\n",
        "StdNew20 = Method20E[5]\n",
        "PearsonNew20 = Method20E[6]"
      ]
    },
    {
      "cell_type": "code",
      "execution_count": null,
      "metadata": {
        "colab": {
          "base_uri": "https://localhost:8080/"
        },
        "id": "GFjJfoXP9dSv",
        "outputId": "7ab44eff-5a7d-4486-a3db-be63e40221f9"
      },
      "outputs": [
        {
          "data": {
            "text/plain": [
              "0.0010780019427832001"
            ]
          },
          "execution_count": 55,
          "metadata": {},
          "output_type": "execute_result"
        }
      ],
      "source": [
        "MeanNew20"
      ]
    },
    {
      "cell_type": "code",
      "execution_count": null,
      "metadata": {
        "colab": {
          "base_uri": "https://localhost:8080/"
        },
        "id": "Rm5W4taU9gZP",
        "outputId": "7abd429d-9bbd-4a8a-dcf8-4c0073238410"
      },
      "outputs": [
        {
          "data": {
            "text/plain": [
              "0.0003516022336481651"
            ]
          },
          "execution_count": 56,
          "metadata": {},
          "output_type": "execute_result"
        }
      ],
      "source": [
        "StdNew20"
      ]
    },
    {
      "cell_type": "code",
      "execution_count": null,
      "metadata": {
        "colab": {
          "base_uri": "https://localhost:8080/"
        },
        "id": "T2AHAylg9gVf",
        "outputId": "701834e5-5ba8-4339-cc42-b8dee637f760"
      },
      "outputs": [
        {
          "data": {
            "text/plain": [
              "32.61610389498869"
            ]
          },
          "execution_count": 57,
          "metadata": {},
          "output_type": "execute_result"
        }
      ],
      "source": [
        "PearsonNew20"
      ]
    },
    {
      "cell_type": "markdown",
      "metadata": {
        "id": "xBjNfHoLFdF1"
      },
      "source": [
        "##### Analysis for 25 nodes"
      ]
    },
    {
      "cell_type": "code",
      "execution_count": null,
      "metadata": {
        "id": "zPVYJ8KfDru_"
      },
      "outputs": [],
      "source": [
        ""
      ]
    },
    {
      "cell_type": "code",
      "execution_count": null,
      "metadata": {
        "id": "Eg_-3dCWDsBm"
      },
      "outputs": [],
      "source": [
        "G20 = nx.read_gml('/content/gdrive/MyDrive/Networkx/Graph21.gml')"
      ]
    },
    {
      "cell_type": "code",
      "execution_count": null,
      "metadata": {
        "id": "IwlqN3qmDsBn"
      },
      "outputs": [],
      "source": [
        "G25 = nx.read_gml('/content/gdrive/MyDrive/Networkx/Graph25.gml')"
      ]
    },
    {
      "cell_type": "code",
      "execution_count": null,
      "metadata": {
        "id": "NbxMh2k4DsBo"
      },
      "outputs": [],
      "source": [
        "G30 = nx.read_gml('/content/gdrive/MyDrive/Networkx/Graph30.gml')"
      ]
    },
    {
      "cell_type": "code",
      "execution_count": null,
      "metadata": {
        "id": "0YQ5U-1uDsBo"
      },
      "outputs": [],
      "source": [
        "G35 = nx.read_gml('/content/gdrive/MyDrive/Networkx/Graph35.gml')"
      ]
    },
    {
      "cell_type": "code",
      "execution_count": null,
      "metadata": {
        "id": "7iTRMKScFhcu"
      },
      "outputs": [],
      "source": [
        "MeanAstar25 = Astar25E[4]\n",
        "StdAstar25 = Astar25E[5]\n",
        "PearsonAstar25 = Astar25E[6]"
      ]
    },
    {
      "cell_type": "code",
      "execution_count": null,
      "metadata": {
        "colab": {
          "base_uri": "https://localhost:8080/"
        },
        "id": "f3JHbTcmFhcv",
        "outputId": "7b08bc12-7868-4a36-880e-c2d749209eea"
      },
      "outputs": [
        {
          "data": {
            "text/plain": [
              "0.00086230848"
            ]
          },
          "execution_count": 22,
          "metadata": {},
          "output_type": "execute_result"
        }
      ],
      "source": [
        "MeanAstar25"
      ]
    },
    {
      "cell_type": "code",
      "execution_count": null,
      "metadata": {
        "colab": {
          "base_uri": "https://localhost:8080/"
        },
        "id": "PaTHkOWkFhcv",
        "outputId": "c00d494e-3706-445f-e5ef-5ce6546048d8"
      },
      "outputs": [
        {
          "data": {
            "text/plain": [
              "0.0004268583998752861"
            ]
          },
          "execution_count": 23,
          "metadata": {},
          "output_type": "execute_result"
        }
      ],
      "source": [
        "StdAstar25"
      ]
    },
    {
      "cell_type": "code",
      "execution_count": null,
      "metadata": {
        "colab": {
          "base_uri": "https://localhost:8080/"
        },
        "id": "1aVlAdDrFhcv",
        "outputId": "42c6098d-f552-4855-f4e7-72b27df83dc3"
      },
      "outputs": [
        {
          "data": {
            "text/plain": [
              "49.50182095800404"
            ]
          },
          "execution_count": 24,
          "metadata": {},
          "output_type": "execute_result"
        }
      ],
      "source": [
        "PearsonAstar25"
      ]
    },
    {
      "cell_type": "code",
      "execution_count": null,
      "metadata": {
        "id": "OB1c5oPJFhcw"
      },
      "outputs": [],
      "source": [
        "MeanDijstra25 = Dijstra25E[4]\n",
        "StdDijstra25 = Dijstra25E[5]\n",
        "PearsonDijstra25 = Dijstra25E[6]"
      ]
    },
    {
      "cell_type": "code",
      "execution_count": null,
      "metadata": {
        "colab": {
          "base_uri": "https://localhost:8080/"
        },
        "id": "OOuOJyNyFhcw",
        "outputId": "9be59fff-7b1b-4b1a-bd68-79be1cbbd3f5"
      },
      "outputs": [
        {
          "data": {
            "text/plain": [
              "0.00086230848"
            ]
          },
          "execution_count": 26,
          "metadata": {},
          "output_type": "execute_result"
        }
      ],
      "source": [
        "MeanDijstra25"
      ]
    },
    {
      "cell_type": "code",
      "execution_count": null,
      "metadata": {
        "colab": {
          "base_uri": "https://localhost:8080/"
        },
        "id": "ls3g5zB3Fhcw",
        "outputId": "e596b3e7-b404-4a38-8647-5d752d8ca152"
      },
      "outputs": [
        {
          "data": {
            "text/plain": [
              "0.0004268583998752861"
            ]
          },
          "execution_count": 27,
          "metadata": {},
          "output_type": "execute_result"
        }
      ],
      "source": [
        "StdDijstra25"
      ]
    },
    {
      "cell_type": "code",
      "execution_count": null,
      "metadata": {
        "colab": {
          "base_uri": "https://localhost:8080/"
        },
        "id": "cOWMqaZlFhcx",
        "outputId": "0ef329b2-483a-47a1-bb88-bfaf2202d412"
      },
      "outputs": [
        {
          "data": {
            "text/plain": [
              "49.50182095800404"
            ]
          },
          "execution_count": 28,
          "metadata": {},
          "output_type": "execute_result"
        }
      ],
      "source": [
        "PearsonDijstra25"
      ]
    },
    {
      "cell_type": "code",
      "execution_count": null,
      "metadata": {
        "id": "Ket82KBhFhcx"
      },
      "outputs": [],
      "source": [
        "MeanNew25 = Method25E[4]\n",
        "StdNew25 = Method25E[5]\n",
        "PearsonNew25 = Method25E[6]"
      ]
    },
    {
      "cell_type": "code",
      "execution_count": null,
      "metadata": {
        "colab": {
          "base_uri": "https://localhost:8080/"
        },
        "id": "zhdjMabpFhcx",
        "outputId": "57ad3d33-668f-4025-8fba-e2a150b44c9f"
      },
      "outputs": [
        {
          "data": {
            "text/plain": [
              "0.00060763704"
            ]
          },
          "execution_count": 30,
          "metadata": {},
          "output_type": "execute_result"
        }
      ],
      "source": [
        "MeanNew25"
      ]
    },
    {
      "cell_type": "code",
      "execution_count": null,
      "metadata": {
        "colab": {
          "base_uri": "https://localhost:8080/"
        },
        "id": "H3MPL9qeFhcy",
        "outputId": "fb8e686a-0446-4b99-feed-56dd08b784bb"
      },
      "outputs": [
        {
          "data": {
            "text/plain": [
              "0.0002627157663012222"
            ]
          },
          "execution_count": 31,
          "metadata": {},
          "output_type": "execute_result"
        }
      ],
      "source": [
        "StdNew25"
      ]
    },
    {
      "cell_type": "code",
      "execution_count": null,
      "metadata": {
        "colab": {
          "base_uri": "https://localhost:8080/"
        },
        "id": "khKDp5eMFhcz",
        "outputId": "5a5b82e2-0e10-48cf-da66-acf991f52a3a"
      },
      "outputs": [
        {
          "data": {
            "text/plain": [
              "43.23564052336609"
            ]
          },
          "execution_count": 32,
          "metadata": {},
          "output_type": "execute_result"
        }
      ],
      "source": [
        "PearsonNew25"
      ]
    },
    {
      "cell_type": "markdown",
      "metadata": {
        "id": "nNMSZylNF7Yj"
      },
      "source": [
        "##### Analysis for 30 nodes"
      ]
    },
    {
      "cell_type": "code",
      "execution_count": null,
      "metadata": {
        "id": "Dj94ZXQuF_6q"
      },
      "outputs": [],
      "source": [
        "MeanAstar30 = Astar30E[4]\n",
        "StdAstar30 = Astar30E[5]\n",
        "PearsonAstar30 = Astar30E[6]"
      ]
    },
    {
      "cell_type": "code",
      "execution_count": null,
      "metadata": {
        "colab": {
          "base_uri": "https://localhost:8080/"
        },
        "id": "OReEVcuzF_6r",
        "outputId": "e6c13097-1f17-4828-b08f-462daf7ee9a3"
      },
      "outputs": [
        {
          "data": {
            "text/plain": [
              "0.00081620208"
            ]
          },
          "execution_count": 34,
          "metadata": {},
          "output_type": "execute_result"
        }
      ],
      "source": [
        "MeanAstar30"
      ]
    },
    {
      "cell_type": "code",
      "execution_count": null,
      "metadata": {
        "colab": {
          "base_uri": "https://localhost:8080/"
        },
        "id": "cr7Sk94oF_6r",
        "outputId": "0c07d198-c37c-4206-f247-75eed72bec2f"
      },
      "outputs": [
        {
          "data": {
            "text/plain": [
              "0.00038466793935402734"
            ]
          },
          "execution_count": 35,
          "metadata": {},
          "output_type": "execute_result"
        }
      ],
      "source": [
        "StdAstar30"
      ]
    },
    {
      "cell_type": "code",
      "execution_count": null,
      "metadata": {
        "colab": {
          "base_uri": "https://localhost:8080/"
        },
        "id": "3uSYImv1F_6s",
        "outputId": "5bc4dcb8-d363-4c0b-9023-80e6ada4cdad"
      },
      "outputs": [
        {
          "data": {
            "text/plain": [
              "47.12900748231704"
            ]
          },
          "execution_count": 36,
          "metadata": {},
          "output_type": "execute_result"
        }
      ],
      "source": [
        "PearsonAstar30"
      ]
    },
    {
      "cell_type": "code",
      "execution_count": null,
      "metadata": {
        "id": "THhsFpZDF_6s"
      },
      "outputs": [],
      "source": [
        "MeanDijstra30 = Dijstra30E[4]\n",
        "StdDijstra30 = Dijstra30E[5]\n",
        "PearsonDijstra30 = Dijstra30E[6]"
      ]
    },
    {
      "cell_type": "code",
      "execution_count": null,
      "metadata": {
        "colab": {
          "base_uri": "https://localhost:8080/"
        },
        "id": "qHQEY0Y3F_6s",
        "outputId": "62566db7-2f59-4900-bdab-83b4778dd340"
      },
      "outputs": [
        {
          "data": {
            "text/plain": [
              "0.00081620208"
            ]
          },
          "execution_count": 38,
          "metadata": {},
          "output_type": "execute_result"
        }
      ],
      "source": [
        "MeanDijstra30 "
      ]
    },
    {
      "cell_type": "code",
      "execution_count": null,
      "metadata": {
        "colab": {
          "base_uri": "https://localhost:8080/"
        },
        "id": "0gG1T6y4F_6t",
        "outputId": "d2f6d320-b112-4171-80d0-b76a0d3c8f35"
      },
      "outputs": [
        {
          "data": {
            "text/plain": [
              "0.00038466793935402734"
            ]
          },
          "execution_count": 39,
          "metadata": {},
          "output_type": "execute_result"
        }
      ],
      "source": [
        "StdDijstra30"
      ]
    },
    {
      "cell_type": "code",
      "execution_count": null,
      "metadata": {
        "colab": {
          "base_uri": "https://localhost:8080/"
        },
        "id": "TJ0C8If7F_6t",
        "outputId": "9a59aeab-6b88-4ddd-8246-e991b2d3e09f"
      },
      "outputs": [
        {
          "data": {
            "text/plain": [
              "47.12900748231704"
            ]
          },
          "execution_count": 40,
          "metadata": {},
          "output_type": "execute_result"
        }
      ],
      "source": [
        "PearsonDijstra30"
      ]
    },
    {
      "cell_type": "code",
      "execution_count": null,
      "metadata": {
        "id": "mC-HeC4QF_6t"
      },
      "outputs": [],
      "source": [
        "MeanNew30 = Method30E[4]\n",
        "StdNew30 = Method30E[5]\n",
        "PearsonNew30 = Method30E[6]"
      ]
    },
    {
      "cell_type": "code",
      "execution_count": null,
      "metadata": {
        "colab": {
          "base_uri": "https://localhost:8080/"
        },
        "id": "emVD6bdmF_6u",
        "outputId": "9c4d82ce-a124-403f-c5b1-ef9c8d3cc51f"
      },
      "outputs": [
        {
          "data": {
            "text/plain": [
              "0.0007263952"
            ]
          },
          "execution_count": 42,
          "metadata": {},
          "output_type": "execute_result"
        }
      ],
      "source": [
        "MeanNew30"
      ]
    },
    {
      "cell_type": "code",
      "execution_count": null,
      "metadata": {
        "colab": {
          "base_uri": "https://localhost:8080/"
        },
        "id": "Ao_JzVP1F_6u",
        "outputId": "2b873f29-dd20-4acd-c8c5-205ee456018c"
      },
      "outputs": [
        {
          "data": {
            "text/plain": [
              "0.00025753918183794866"
            ]
          },
          "execution_count": 80,
          "metadata": {},
          "output_type": "execute_result"
        }
      ],
      "source": [
        "StdNew30"
      ]
    },
    {
      "cell_type": "code",
      "execution_count": null,
      "metadata": {
        "colab": {
          "base_uri": "https://localhost:8080/"
        },
        "id": "3UhGqiJQF_6u",
        "outputId": "8e58ac5d-b052-4d1f-df01-f07ebb933796"
      },
      "outputs": [
        {
          "data": {
            "text/plain": [
              "35.454416802031275"
            ]
          },
          "execution_count": 81,
          "metadata": {},
          "output_type": "execute_result"
        }
      ],
      "source": [
        "PearsonNew30"
      ]
    },
    {
      "cell_type": "code",
      "execution_count": null,
      "metadata": {
        "id": "0RQRAT4NGpaU"
      },
      "outputs": [],
      "source": [
        ""
      ]
    }
  ],
  "metadata": {
    "colab": {
      "collapsed_sections": [],
      "name": "Uriel_NGUEFACK_YEFOU-Statistical-Analysis-1.ipynb",
      "provenance": []
    },
    "kernelspec": {
      "display_name": "Python 3",
      "language": "python",
      "name": "python3"
    },
    "language_info": {
      "codemirror_mode": {
        "name": "ipython",
        "version": 3
      },
      "file_extension": ".py",
      "mimetype": "text/x-python",
      "name": "python",
      "nbconvert_exporter": "python",
      "pygments_lexer": "ipython3",
      "version": "3.7.3"
    }
  },
  "nbformat": 4,
  "nbformat_minor": 0
}